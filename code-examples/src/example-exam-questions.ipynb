{
 "cells": [
  {
   "cell_type": "markdown",
   "metadata": {
    "slideshow": {
     "slide_type": "slide"
    }
   },
   "source": [
    "# CAS Data Science - Exemplarische Prüfungsfragen"
   ]
  },
  {
   "cell_type": "markdown",
   "metadata": {},
   "source": [
    "### Frage 1\n",
    "\n",
    "Welche Algorithmen haben wir im Unterricht für Dimensionality Reduction verwendet?  \n",
    "\n",
    "**A** : *Batch Gradient Descent*\n",
    "\n",
    "**B** : *Principal Component Analysis*  \n",
    "\n",
    "**C** : *Backpropagation*  \n",
    "\n",
    "**D** : Non-negative Matrix Factorization"
   ]
  },
  {
   "cell_type": "markdown",
   "metadata": {},
   "source": [
    "<details>\n",
    "  <summary>Korrekte Antwort</summary>\n",
    "  B, D\n",
    "</details>"
   ]
  },
  {
   "cell_type": "markdown",
   "metadata": {
    "slideshow": {
     "slide_type": "slide"
    }
   },
   "source": [
    "### Frage 2\n",
    "\n",
    "Wenn wir *Principal Component Analysis* verwenden, so  \n",
    "\n",
    "**A** : haben die berechneten Komponenten bloss Werte grösser Null.  \n",
    "\n",
    "**B** : müssen wir die Datenvektoren erst alle auf Länge 1 normieren.  \n",
    "\n",
    "**C** : können wir einfach bestimmen, wie gross der Anteil der Varianz der ersten Komponente an der gesamten Varianz des Datensatzes ist.  \n",
    "\n",
    "**D** : erhalten wir Komponenten-Vektoren, welche rechtwinklig aufeinander stehen."
   ]
  },
  {
   "cell_type": "markdown",
   "metadata": {},
   "source": [
    "<details>\n",
    "  <summary>Korrekte Antwort</summary>\n",
    "  C, D\n",
    "</details>"
   ]
  },
  {
   "cell_type": "markdown",
   "metadata": {
    "slideshow": {
     "slide_type": "slide"
    }
   },
   "source": [
    "### Frage 3\n",
    "\n",
    "Welche der folgenden Aussagen sind **korrekt**?  \n",
    "\n",
    "**A** : Sowohl *Non-negative Matrix Factorization* (*NMF*) wie auch *k-Means* werden in einem *Block-Coordinate Descent*-Verfahren optimiert.  \n",
    "\n",
    "**B** : Sowohl bei *NMF* wie auch bei *k-Means* muss ich die Anzahl Komponenten wählen.  \n",
    "\n",
    "**C** : Bei einem *Elbow-Plot*, zum Bestimmen einer geeigneten Anzahl *Cluster*, zeichnet man den finalen Wert der *Cost Function* als Funktion der Anzahl Iterationen.  \n",
    "\n",
    "**D** : Die *Centroiden*, welche mit *k-Means* gefunden werden, haben eine kleinere Dimension wie die Datenpunkte."
   ]
  },
  {
   "cell_type": "markdown",
   "metadata": {},
   "source": [
    "<details>\n",
    "  <summary>Korrekte Antwort</summary>\n",
    "  A, B\n",
    "</details>"
   ]
  },
  {
   "cell_type": "markdown",
   "metadata": {
    "slideshow": {
     "slide_type": "slide"
    }
   },
   "source": [
    "### Frage 4\n",
    "\n",
    "Welche der folgenden Algorithmen kann **nicht** für die Klassifikation eingesetzt werden?\n",
    "\n",
    "**A** : *Decision Trees*  \n",
    "\n",
    "**B** : *Logistic Regression*  \n",
    "\n",
    "**C** : *Singular Value Decomposition*  \n",
    "\n",
    "**D** : Lineare Regression"
   ]
  },
  {
   "cell_type": "markdown",
   "metadata": {},
   "source": [
    "<details>\n",
    "  <summary>Korrekte Antwort</summary>\n",
    "  C, D\n",
    "</details>"
   ]
  },
  {
   "cell_type": "markdown",
   "metadata": {
    "slideshow": {
     "slide_type": "slide"
    }
   },
   "source": [
    "### Frage 5\n",
    "\n",
    "Welche der folgenden Aussagen sind **falsch**?\n",
    "\n",
    "**A** : Formulieren wir ein zu komplexes Modell, so besteht die Gefahr von *Overfitting.*  \n",
    "\n",
    "**B** : *Overfitting* kommt dadurch zustande, dass das Optimierungsverfahren nicht konvergiert.  \n",
    "\n",
    "**C** : *Underfitting* ist nicht schlimm.  \n",
    "\n",
    "**D** : Um *Overfitting* systematisch zu untersuchen müssen wir eine Metrik auf Daten berechnen, welche nicht zum Trainieren verwendet wurden."
   ]
  },
  {
   "cell_type": "markdown",
   "metadata": {},
   "source": [
    "<details>\n",
    "  <summary>Korrekte Antwort</summary>\n",
    "  B, C\n",
    "</details>"
   ]
  },
  {
   "cell_type": "code",
   "execution_count": null,
   "metadata": {},
   "outputs": [],
   "source": []
  }
 ],
 "metadata": {
  "celltoolbar": "Raw Cell Format",
  "kernelspec": {
   "display_name": "Python 3 (ipykernel)",
   "language": "python",
   "name": "python3"
  },
  "language_info": {
   "codemirror_mode": {
    "name": "ipython",
    "version": 3
   },
   "file_extension": ".py",
   "mimetype": "text/x-python",
   "name": "python",
   "nbconvert_exporter": "python",
   "pygments_lexer": "ipython3",
   "version": "3.9.13"
  }
 },
 "nbformat": 4,
 "nbformat_minor": 2
}
