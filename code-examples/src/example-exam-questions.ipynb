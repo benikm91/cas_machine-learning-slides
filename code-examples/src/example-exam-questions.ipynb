{
 "cells": [
  {
   "cell_type": "markdown",
   "metadata": {
    "slideshow": {
     "slide_type": "slide"
    }
   },
   "source": [
    "# CAS Data Science - Exemplarische Prüfungsfragen"
   ]
  },
  {
   "cell_type": "markdown",
   "metadata": {},
   "source": [
    "### Frage 1\n",
    "\n",
    "Gegeben sei eine Datenmatrix $X \\in \\mathbf{R}^{n \\times p}$ mit $X_{ij \\geq 0}$. Mit welchen der folgenden Methoden können sie eine Zerlegung von $X$ in ein Produkt von Matrizen vornehmen?  \n",
    "\n",
    "**A** : *Singular Value Decomposition*  \n",
    "\n",
    "**B** : *Principal Component Analysis*  \n",
    "\n",
    "**C** : *k-Nearest Neighbours*  \n",
    "\n",
    "**D** : Non-negative Matrix Factorization"
   ]
  },
  {
   "cell_type": "markdown",
   "metadata": {},
   "source": [
    "<details>\n",
    "  <summary>Korrekte Antwort</summary>\n",
    "  A, B, D\n",
    "</details>"
   ]
  },
  {
   "cell_type": "markdown",
   "metadata": {
    "slideshow": {
     "slide_type": "slide"
    }
   },
   "source": [
    "### Frage 2\n",
    "\n",
    "Wenn wir *Principal Component Analysis* verwenden, so  \n",
    "\n",
    "**A** : haben die berechneten Komponenten bloss Werte grösser Null.  \n",
    "\n",
    "**B** : müssen wir die Datenvektoren erst alle auf Länge 1 normieren.  \n",
    "\n",
    "**C** : können wir einfach bestimmen, wie gross der Anteil der Varianz der ersten Komponente an der gesamten Varianz des Datensatzes ist.  \n",
    "\n",
    "**D** : erhalten wir Komponenten-Vektoren, welche rechtwinklig aufeinander stehen."
   ]
  },
  {
   "cell_type": "markdown",
   "metadata": {},
   "source": [
    "<details>\n",
    "  <summary>Korrekte Antwort</summary>\n",
    "  C, D\n",
    "</details>"
   ]
  },
  {
   "cell_type": "markdown",
   "metadata": {
    "slideshow": {
     "slide_type": "slide"
    }
   },
   "source": [
    "### Frage 3\n",
    "\n",
    "Welche der folgenden Aussagen ist korrekt?  \n",
    "\n",
    "**A** : Sowohl *Non-negative Matrix Factorization* (*NMF*) wie auch *k-Nearest-Neighbour*-Klassifikation werden in einem *Block-Coordinate Descent*-Verfahren optimiert.  \n",
    "\n",
    "**B** : Sowohl bei *NMF* wie auch bei *k-Means* muss ich die Anzahl Komponenten wählen.  \n",
    "\n",
    "**C** : Bei einem *Elbow-Plot*, zum Bestimmen einer geeigneten Anzahl *Cluster*, zeichnet man den finalen Wert der *Cost Function* als Funktion der Anzahl Iterationen.  \n",
    "\n",
    "**D** : Die *Centroiden*, welche mit *k-Means* gefunden werden, haben eine kleinere Dimension wie die Datenpunkte."
   ]
  },
  {
   "cell_type": "markdown",
   "metadata": {},
   "source": [
    "<details>\n",
    "  <summary>Korrekte Antwort</summary>\n",
    "  B\n",
    "</details>"
   ]
  },
  {
   "cell_type": "markdown",
   "metadata": {
    "slideshow": {
     "slide_type": "slide"
    }
   },
   "source": [
    "### Frage 4\n",
    "\n",
    "Welche der folgenden Methoden sind keine Klassifikationsmodelle?\n",
    "\n",
    "**A** : *Decision Trees*  \n",
    "\n",
    "**B** : *Naive Bayes*  \n",
    "\n",
    "**C** : *Singular Value Decomposition*  \n",
    "\n",
    "**D** : Lineare Regression"
   ]
  },
  {
   "cell_type": "markdown",
   "metadata": {},
   "source": [
    "<details>\n",
    "  <summary>Korrekte Antwort</summary>\n",
    "  C, D\n",
    "</details>"
   ]
  },
  {
   "cell_type": "markdown",
   "metadata": {
    "slideshow": {
     "slide_type": "slide"
    }
   },
   "source": [
    "### Frage 5\n",
    "\n",
    "Welche der folgenden Aussagen sind falsch?\n",
    "\n",
    "**A** : Formulieren wir ein zu komplexes Modell, so besteht die Gefahr von *Overfitting.*  \n",
    "\n",
    "**B** : *Overfitting* kommt dadurch zustande, dass das Optimierungsverfahren nicht konvergiert.  \n",
    "\n",
    "**C** : *Underfitting* ist weniger schlimm als *Overfitting*.  \n",
    "\n",
    "**D** : Um *Overfitting* systematisch zu untersuchen müssen wir eine Metrik auf Daten berechnen, welche nicht zum Trainieren verwendet wurden."
   ]
  },
  {
   "cell_type": "markdown",
   "metadata": {},
   "source": [
    "<details>\n",
    "  <summary>Korrekte Antwort</summary>\n",
    "  B, C\n",
    "</details>"
   ]
  }
 ],
 "metadata": {
  "celltoolbar": "Raw Cell Format",
  "kernelspec": {
   "display_name": "Python 3 (ipykernel)",
   "language": "python",
   "name": "python3"
  },
  "language_info": {
   "codemirror_mode": {
    "name": "ipython",
    "version": 3
   },
   "file_extension": ".py",
   "mimetype": "text/x-python",
   "name": "python",
   "nbconvert_exporter": "python",
   "pygments_lexer": "ipython3",
   "version": "3.9.13"
  }
 },
 "nbformat": 4,
 "nbformat_minor": 2
}
