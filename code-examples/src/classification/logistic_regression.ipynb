{
 "cells": [
  {
   "cell_type": "markdown",
   "source": [
    "# Logistic Regression - Code\n",
    "\n",
    "In diesem Notebook schauen wir uns die `Logistic Regression` am Iris Datensatzes an.\n",
    "\n",
    "## Setup\n",
    "\n",
    "Setup Code muss *nicht* verstanden werden."
   ],
   "metadata": {
    "collapsed": false
   }
  },
  {
   "cell_type": "code",
   "execution_count": 5,
   "outputs": [],
   "source": [
    "import pandas as pd\n",
    "import matplotlib.pyplot as plt\n",
    "import seaborn as sns\n",
    "from sklearn.preprocessing import StandardScaler\n",
    "import numpy as np"
   ],
   "metadata": {
    "collapsed": false
   }
  },
  {
   "cell_type": "code",
   "execution_count": 6,
   "outputs": [],
   "source": [
    "from sklearn.preprocessing import OrdinalEncoder\n",
    "from matplotlib.colors import ListedColormap\n",
    "\n",
    "def plot_decision_regions(X_train, X_test, y_train, y_test, classifier, resolution=0.02, same_aspect=False):\n",
    "\n",
    "    assert(X_train.shape[1] == 2)\n",
    "    assert(X_test.shape[1] == 2)\n",
    "\n",
    "    x_label = X_train.columns[0]\n",
    "    y_label = X_train.columns[1]\n",
    "\n",
    "    X_train = X_train.values\n",
    "    X_test = X_test.values\n",
    "\n",
    "    X = np.concatenate([X_train, X_test])\n",
    "    y = np.concatenate([y_train, y_test])\n",
    "\n",
    "    palette = dict(zip(\n",
    "        ['Setosa', 'Versicolor', 'Virginica'],\n",
    "        sns.color_palette()\n",
    "    ))\n",
    "\n",
    "    oe = OrdinalEncoder(categories=[['Setosa', 'Versicolor', 'Virginica']]).fit(y.reshape(-1, 1))\n",
    "\n",
    "    # plot the decision surface\n",
    "    x1_min, x1_max = X[:, 0].min() - 3, X[:, 0].max() + 3\n",
    "    x2_min, x2_max = X[:, 1].min() - 3, X[:, 1].max() + 3\n",
    "    xx1, xx2 = np.meshgrid(np.arange(x1_min, x1_max, resolution),\n",
    "                           np.arange(x2_min, x2_max, resolution))\n",
    "    Z = classifier.predict(np.array([xx1.ravel(), xx2.ravel()]).T)\n",
    "    Z = oe.transform(Z.reshape(-1, 1))\n",
    "    Z = Z.reshape(xx1.shape)\n",
    "\n",
    "    plt.autoscale(True)\n",
    "    ax = sns.scatterplot(x=X[:, 0], y=X[:, 1], hue=y, palette=palette, zorder=3)\n",
    "    ax = sns.scatterplot(x=X_test[:, 0], y=X_test[:, 1], facecolor=\"none\", linewidth=1.5, s=150, fc=\"none\", label='Validation-Set', ax=ax, edgecolor='red', zorder=2)\n",
    "\n",
    "    plt.autoscale(False)\n",
    "    ax.contourf(xx1, xx2, Z, alpha=0.4, cmap=ListedColormap(palette.values()), zorder=1)\n",
    "\n",
    "    if same_aspect:\n",
    "        plt.gca().set_aspect('equal', adjustable='box')\n",
    "\n",
    "    _ = ax.set_xlabel(x_label)\n",
    "    _ = ax.set_ylabel(y_label)\n",
    "\n",
    "    return ax"
   ],
   "metadata": {
    "collapsed": false
   }
  },
  {
   "cell_type": "code",
   "execution_count": 7,
   "outputs": [
    {
     "name": "stdout",
     "output_type": "stream",
     "text": [
      "Setosa        50\n",
      "Versicolor    50\n",
      "Virginica     50\n",
      "Name: name, dtype: int64\n"
     ]
    }
   ],
   "source": [
    "# Load data and rename to be more precise\n",
    "df = pd.read_csv('data/iris.csv')[['petal length', 'petal width', 'name']].rename(columns={\n",
    "    'petal length': 'petal length (cm)',  # petal = Blütenblatt\n",
    "    'petal width': 'petal width (cm)',\n",
    "})\n",
    "\n",
    "print(df['name'].value_counts())"
   ],
   "metadata": {
    "collapsed": false
   }
  },
  {
   "cell_type": "markdown",
   "source": [
    "## Logistic Regression (mit 3 Klassen)\n",
    "\n",
    "Zuerst teilen wir unsere Daten in `Train-Set` und `Validation-Set`:"
   ],
   "metadata": {
    "collapsed": false
   }
  },
  {
   "cell_type": "code",
   "execution_count": 8,
   "outputs": [
    {
     "name": "stdout",
     "output_type": "stream",
     "text": [
      "(112, 2) (38, 2) (112,) (38,)\n"
     ]
    }
   ],
   "source": [
    "from sklearn.model_selection import train_test_split\n",
    "from sklearn.pipeline import Pipeline\n",
    "from sklearn.linear_model import LogisticRegression\n",
    "\n",
    "X_train, X_test, y_train, y_test = train_test_split(df[['petal length (cm)', 'petal width (cm)']], df['name'], test_size=0.25, random_state=0)\n",
    "\n",
    "print(X_train.shape, X_test.shape, y_train.shape, y_test.shape)"
   ],
   "metadata": {
    "collapsed": false
   }
  },
  {
   "cell_type": "markdown",
   "source": [
    "Anschliessend trainieren wir ein `Logistic Regression` Modell auf dem `Train-Set`."
   ],
   "metadata": {
    "collapsed": false
   }
  },
  {
   "cell_type": "code",
   "execution_count": 9,
   "outputs": [
    {
     "data": {
      "text/plain": "Pipeline(steps=[('std', StandardScaler()), ('clf', LogisticRegression())])",
      "text/html": "<style>#sk-container-id-1 {color: black;background-color: white;}#sk-container-id-1 pre{padding: 0;}#sk-container-id-1 div.sk-toggleable {background-color: white;}#sk-container-id-1 label.sk-toggleable__label {cursor: pointer;display: block;width: 100%;margin-bottom: 0;padding: 0.3em;box-sizing: border-box;text-align: center;}#sk-container-id-1 label.sk-toggleable__label-arrow:before {content: \"▸\";float: left;margin-right: 0.25em;color: #696969;}#sk-container-id-1 label.sk-toggleable__label-arrow:hover:before {color: black;}#sk-container-id-1 div.sk-estimator:hover label.sk-toggleable__label-arrow:before {color: black;}#sk-container-id-1 div.sk-toggleable__content {max-height: 0;max-width: 0;overflow: hidden;text-align: left;background-color: #f0f8ff;}#sk-container-id-1 div.sk-toggleable__content pre {margin: 0.2em;color: black;border-radius: 0.25em;background-color: #f0f8ff;}#sk-container-id-1 input.sk-toggleable__control:checked~div.sk-toggleable__content {max-height: 200px;max-width: 100%;overflow: auto;}#sk-container-id-1 input.sk-toggleable__control:checked~label.sk-toggleable__label-arrow:before {content: \"▾\";}#sk-container-id-1 div.sk-estimator input.sk-toggleable__control:checked~label.sk-toggleable__label {background-color: #d4ebff;}#sk-container-id-1 div.sk-label input.sk-toggleable__control:checked~label.sk-toggleable__label {background-color: #d4ebff;}#sk-container-id-1 input.sk-hidden--visually {border: 0;clip: rect(1px 1px 1px 1px);clip: rect(1px, 1px, 1px, 1px);height: 1px;margin: -1px;overflow: hidden;padding: 0;position: absolute;width: 1px;}#sk-container-id-1 div.sk-estimator {font-family: monospace;background-color: #f0f8ff;border: 1px dotted black;border-radius: 0.25em;box-sizing: border-box;margin-bottom: 0.5em;}#sk-container-id-1 div.sk-estimator:hover {background-color: #d4ebff;}#sk-container-id-1 div.sk-parallel-item::after {content: \"\";width: 100%;border-bottom: 1px solid gray;flex-grow: 1;}#sk-container-id-1 div.sk-label:hover label.sk-toggleable__label {background-color: #d4ebff;}#sk-container-id-1 div.sk-serial::before {content: \"\";position: absolute;border-left: 1px solid gray;box-sizing: border-box;top: 0;bottom: 0;left: 50%;z-index: 0;}#sk-container-id-1 div.sk-serial {display: flex;flex-direction: column;align-items: center;background-color: white;padding-right: 0.2em;padding-left: 0.2em;position: relative;}#sk-container-id-1 div.sk-item {position: relative;z-index: 1;}#sk-container-id-1 div.sk-parallel {display: flex;align-items: stretch;justify-content: center;background-color: white;position: relative;}#sk-container-id-1 div.sk-item::before, #sk-container-id-1 div.sk-parallel-item::before {content: \"\";position: absolute;border-left: 1px solid gray;box-sizing: border-box;top: 0;bottom: 0;left: 50%;z-index: -1;}#sk-container-id-1 div.sk-parallel-item {display: flex;flex-direction: column;z-index: 1;position: relative;background-color: white;}#sk-container-id-1 div.sk-parallel-item:first-child::after {align-self: flex-end;width: 50%;}#sk-container-id-1 div.sk-parallel-item:last-child::after {align-self: flex-start;width: 50%;}#sk-container-id-1 div.sk-parallel-item:only-child::after {width: 0;}#sk-container-id-1 div.sk-dashed-wrapped {border: 1px dashed gray;margin: 0 0.4em 0.5em 0.4em;box-sizing: border-box;padding-bottom: 0.4em;background-color: white;}#sk-container-id-1 div.sk-label label {font-family: monospace;font-weight: bold;display: inline-block;line-height: 1.2em;}#sk-container-id-1 div.sk-label-container {text-align: center;}#sk-container-id-1 div.sk-container {/* jupyter's `normalize.less` sets `[hidden] { display: none; }` but bootstrap.min.css set `[hidden] { display: none !important; }` so we also need the `!important` here to be able to override the default hidden behavior on the sphinx rendered scikit-learn.org. See: https://github.com/scikit-learn/scikit-learn/issues/21755 */display: inline-block !important;position: relative;}#sk-container-id-1 div.sk-text-repr-fallback {display: none;}</style><div id=\"sk-container-id-1\" class=\"sk-top-container\"><div class=\"sk-text-repr-fallback\"><pre>Pipeline(steps=[(&#x27;std&#x27;, StandardScaler()), (&#x27;clf&#x27;, LogisticRegression())])</pre><b>In a Jupyter environment, please rerun this cell to show the HTML representation or trust the notebook. <br />On GitHub, the HTML representation is unable to render, please try loading this page with nbviewer.org.</b></div><div class=\"sk-container\" hidden><div class=\"sk-item sk-dashed-wrapped\"><div class=\"sk-label-container\"><div class=\"sk-label sk-toggleable\"><input class=\"sk-toggleable__control sk-hidden--visually\" id=\"sk-estimator-id-1\" type=\"checkbox\" ><label for=\"sk-estimator-id-1\" class=\"sk-toggleable__label sk-toggleable__label-arrow\">Pipeline</label><div class=\"sk-toggleable__content\"><pre>Pipeline(steps=[(&#x27;std&#x27;, StandardScaler()), (&#x27;clf&#x27;, LogisticRegression())])</pre></div></div></div><div class=\"sk-serial\"><div class=\"sk-item\"><div class=\"sk-estimator sk-toggleable\"><input class=\"sk-toggleable__control sk-hidden--visually\" id=\"sk-estimator-id-2\" type=\"checkbox\" ><label for=\"sk-estimator-id-2\" class=\"sk-toggleable__label sk-toggleable__label-arrow\">StandardScaler</label><div class=\"sk-toggleable__content\"><pre>StandardScaler()</pre></div></div></div><div class=\"sk-item\"><div class=\"sk-estimator sk-toggleable\"><input class=\"sk-toggleable__control sk-hidden--visually\" id=\"sk-estimator-id-3\" type=\"checkbox\" ><label for=\"sk-estimator-id-3\" class=\"sk-toggleable__label sk-toggleable__label-arrow\">LogisticRegression</label><div class=\"sk-toggleable__content\"><pre>LogisticRegression()</pre></div></div></div></div></div></div></div>"
     },
     "execution_count": 9,
     "metadata": {},
     "output_type": "execute_result"
    }
   ],
   "source": [
    "model = Pipeline([\n",
    "    # Ich empfehle bei Logistic Regression den StandardScaler vorher anzuwenden, da die Logistic Regression standardmässig regularisiert\n",
    "    ('std', StandardScaler()),\n",
    "    ('clf', LogisticRegression())\n",
    "])\n",
    "model.fit(X_train, y_train)"
   ],
   "metadata": {
    "collapsed": false
   }
  },
  {
   "cell_type": "markdown",
   "source": [
    "`model` ist unser Modell, trainiert auf dem `Train-Set`. Intern hat es die lernbaren Paramter (betas) bereits gesetzt."
   ],
   "metadata": {
    "collapsed": false
   }
  },
  {
   "cell_type": "markdown",
   "source": [
    "### Evaluieren\n",
    "\n",
    "Wir können das gelernte Modell auf Train-Set und Test-Set evaluieren."
   ],
   "metadata": {
    "collapsed": false
   }
  },
  {
   "cell_type": "code",
   "execution_count": 10,
   "outputs": [
    {
     "name": "stdout",
     "output_type": "stream",
     "text": [
      "Train Set: 95.53571428571429%\n",
      "Test Set: 94.73684210526315%\n"
     ]
    }
   ],
   "source": [
    "from sklearn.metrics import accuracy_score\n",
    "\n",
    "y_train_hat = model.predict(X_train)\n",
    "accuracy_score_train = accuracy_score(y_train, y_train_hat)\n",
    "print(\"Train Set:\", f\"{accuracy_score_train*100}%\")\n",
    "\n",
    "y_test_hat = model.predict(X_test)\n",
    "accuracy_score_test = accuracy_score(y_test, y_test_hat)\n",
    "print(\"Test Set:\", f\"{accuracy_score_test*100}%\")"
   ],
   "metadata": {
    "collapsed": false
   }
  },
  {
   "cell_type": "markdown",
   "source": [
    "### Modell visualisieren\n",
    "\n",
    "Da wir nur 2 Features haben, können wir das Modell auch visualisieren."
   ],
   "metadata": {
    "collapsed": false
   }
  },
  {
   "cell_type": "code",
   "execution_count": 11,
   "outputs": [
    {
     "name": "stderr",
     "output_type": "stream",
     "text": [
      "/Users/beni/IdeaProjects/cas-machine-learning-slides/code-examples/venv/lib/python3.9/site-packages/sklearn/base.py:450: UserWarning: X does not have valid feature names, but StandardScaler was fitted with feature names\n",
      "  warnings.warn(\n"
     ]
    },
    {
     "data": {
      "text/plain": "<Figure size 432x288 with 1 Axes>",
      "image/png": "[encoded data removed]"
     },
     "metadata": {
      "needs_background": "light"
     },
     "output_type": "display_data"
    }
   ],
   "source": [
    "plot_decision_regions(\n",
    "    X_train,\n",
    "    X_test,\n",
    "    y_train.values,\n",
    "    y_test.values,\n",
    "    model\n",
    ")\n",
    "plt.show()"
   ],
   "metadata": {
    "collapsed": false
   }
  },
  {
   "cell_type": "markdown",
   "source": [
    "### Gelernte Parameter (Extra)"
   ],
   "metadata": {
    "collapsed": false
   }
  },
  {
   "cell_type": "markdown",
   "source": [
    "Und wir können die gelernten $\\vec{\\beta}$ ausgeben:"
   ],
   "metadata": {
    "collapsed": false
   }
  },
  {
   "cell_type": "code",
   "execution_count": 12,
   "outputs": [
    {
     "name": "stdout",
     "output_type": "stream",
     "text": [
      "beta_1, beta_2:\n",
      "[[-2.3670054  -2.10563095]\n",
      " [ 0.18460345 -0.40972704]\n",
      " [ 2.18240195  2.51535799]]\n",
      "beta_0:\n",
      "[-0.75576977  1.73717144 -0.98140167]\n"
     ]
    }
   ],
   "source": [
    "print(\"beta_1, beta_2:\")\n",
    "print(model['clf'].coef_)\n",
    "print(\"beta_0:\")\n",
    "print(model['clf'].intercept_)"
   ],
   "metadata": {
    "collapsed": false
   }
  },
  {
   "cell_type": "markdown",
   "source": [
    "Wir haben 3 Klassen, also lernen wir 3 Lineare Modelle.\n",
    "Darum haben wir:\n",
    "* in `coef_` 3 Mal ein `beta_1` und ein `beta_2`\n",
    "* in `intercept_` 3 Mal ein `beta_0`\n",
    "\n",
    "Hätten wir ein Binäres Problem (\"nur\" zwei Klassen), dann hätten wir 1 Mal ein `beta_0` und ein `beta_1` und ein `beta_2`"
   ],
   "metadata": {
    "collapsed": false
   }
  }
 ],
 "metadata": {
  "kernelspec": {
   "display_name": "Python 3",
   "language": "python",
   "name": "python3"
  },
  "language_info": {
   "codemirror_mode": {
    "name": "ipython",
    "version": 2
   },
   "file_extension": ".py",
   "mimetype": "text/x-python",
   "name": "python",
   "nbconvert_exporter": "python",
   "pygments_lexer": "ipython2",
   "version": "2.7.6"
  }
 },
 "nbformat": 4,
 "nbformat_minor": 0
}
